{
  "nbformat": 4,
  "nbformat_minor": 0,
  "metadata": {
    "colab": {
      "name": "MoLPC.ipynb",
      "provenance": [],
      "collapsed_sections": [],
      "authorship_tag": "ABX9TyNF5UHFgl7/5kC1xj+WkGIO",
      "include_colab_link": true
    },
    "kernelspec": {
      "name": "python3",
      "display_name": "Python 3"
    },
    "language_info": {
      "name": "python"
    }
  },
  "cells": [
    {
      "cell_type": "markdown",
      "metadata": {
        "id": "view-in-github",
        "colab_type": "text"
      },
      "source": [
        "<a href=\"https://colab.research.google.com/github/patrickbryant1/MoLPC/blob/master/MoLPC.ipynb\" target=\"_parent\"><img src=\"https://colab.research.google.com/assets/colab-badge.svg\" alt=\"Open In Colab\"/></a>"
      ]
    },
    {
      "cell_type": "code",
      "execution_count": 153,
      "metadata": {
        "colab": {
          "base_uri": "https://localhost:8080/"
        },
        "id": "CCt5QZ0kIeNn",
        "outputId": "c9a982e0-c9f7-4418-fda8-36fa37db7e68"
      },
      "outputs": [
        {
          "output_type": "stream",
          "name": "stderr",
          "text": [
            "UsageError: Line magic function `%conda` not found.\n"
          ]
        }
      ],
      "source": [
        "#Install dependencies\n",
        "%pip install biopython\n",
        "%pip install JAX\n",
        "%pip install dm-haiku\n",
        "%pip install ml-collections"
      ]
    },
    {
      "cell_type": "code",
      "source": [
        "import shutil\n",
        "shutil.rmtree('/content/MoLPC', ignore_errors=True)"
      ],
      "metadata": {
        "id": "ofPpgiG1uqO4"
      },
      "execution_count": 141,
      "outputs": []
    },
    {
      "cell_type": "code",
      "source": [
        "!git clone https://github.com/patrickbryant1/MoLPC.git"
      ],
      "metadata": {
        "colab": {
          "base_uri": "https://localhost:8080/"
        },
        "id": "0YfNo5Thp6KJ",
        "outputId": "14415bff-f4b0-42f8-dda3-e1ef1668d0fd"
      },
      "execution_count": 142,
      "outputs": [
        {
          "output_type": "stream",
          "name": "stdout",
          "text": [
            "Cloning into 'MoLPC'...\n",
            "remote: Enumerating objects: 189, done.\u001b[K\n",
            "remote: Counting objects: 100% (189/189), done.\u001b[K\n",
            "remote: Compressing objects: 100% (145/145), done.\u001b[K\n",
            "remote: Total 189 (delta 59), reused 166 (delta 39), pack-reused 0\u001b[K\n",
            "Receiving objects: 100% (189/189), 34.72 MiB | 30.21 MiB/s, done.\n",
            "Resolving deltas: 100% (59/59), done.\n"
          ]
        }
      ]
    },
    {
      "cell_type": "code",
      "source": [
        "#Run the pipeline\n",
        "import sys\n",
        "from google.colab import files\n",
        "sys.path.insert(0,'/content/MoLPC/src')\n",
        "#@title Default title text\n",
        "ID = \"1A8R\" #@param {type:\"string\"}\n",
        "SUBSIZE = 3 #@param {type:\"integer\"} #What order the subcomplexes should be (2 or 3)\n",
        "#Get the csvs\n",
        "import pandas as pd\n",
        "DATADIR='/content/MoLPC/data/test/'\n",
        "USEQS=pd.read_csv(DATADIR+ID+'_useqs.csv')\n",
        "CHAINS=pd.read_csv(DATADIR+ID+'_chains.csv')\n",
        "INTERACTIONS='' #Leave empty if the interactions are not known - here they are not used. See the file $DATADIR/$ID'_ints.csv' to how to supply such a file\n",
        "GET_ALL=1 #If to get all interactions (1) or not (0) - when the interactions are known\n",
        "MSADIR=DATADIR+'/'\n",
        "OUTDIR=\"/content/gdrive/MyDrive/\""
      ],
      "metadata": {
        "id": "pCCU8gLUL8dq"
      },
      "execution_count": 111,
      "outputs": []
    },
    {
      "cell_type": "code",
      "source": [
        "#Mount the drive to be able to save files\n",
        "from google.colab import drive\n",
        "drive.mount('/content/gdrive') #All the output will be written here"
      ],
      "metadata": {
        "colab": {
          "base_uri": "https://localhost:8080/"
        },
        "id": "eCUQHcBxxxyS",
        "outputId": "735dce80-a18f-4a1e-b782-d9f06bb19263"
      },
      "execution_count": 101,
      "outputs": [
        {
          "output_type": "stream",
          "name": "stdout",
          "text": [
            "Drive already mounted at /content/gdrive; to attempt to forcibly remount, call drive.mount(\"/content/gdrive\", force_remount=True).\n"
          ]
        }
      ]
    },
    {
      "cell_type": "code",
      "source": [
        "#########Step1: MSA PIPELINE#########\n",
        "#Now, a default MSA is read in - no search is performed here\n",
        "#Write the Paired and Block Diagonalized MSAs to predict sub-components\n",
        "from preprocess import preprocess_colab\n",
        "preprocess_colab.create_folder_structure(MSADIR, ID, OUTDIR, USEQS, INTERACTIONS, CHAINS, GET_ALL, SUBSIZE)"
      ],
      "metadata": {
        "colab": {
          "base_uri": "https://localhost:8080/"
        },
        "id": "gdefazeqnSrp",
        "outputId": "78946743-a1aa-4160-a15d-528d38ab92c7"
      },
      "execution_count": 112,
      "outputs": [
        {
          "output_type": "stream",
          "name": "stdout",
          "text": [
            "Creating all interactions of size 3 ...\n"
          ]
        }
      ]
    },
    {
      "cell_type": "code",
      "source": [
        "#########Step2: FOLDING PIPELINE#########\n",
        "#Create structure dir\n",
        "STRUCTURE_DIR=OUTDIR+\"AF/\"\n",
        "os.mkdir(STRUCTURE_DIR)\n"
      ],
      "metadata": {
        "id": "fifktm5fz5KR"
      },
      "execution_count": 113,
      "outputs": []
    },
    {
      "cell_type": "code",
      "source": [
        "#Get the sub_ids and lengths\n",
        "import glob\n",
        "files = glob.glob(OUTDIR+'*.fasta')\n",
        "sub_ids = {}\n",
        "for filename in files:\n",
        "  with open(filename, 'r') as file:\n",
        "    for line in file:\n",
        "      line = line.rstrip()[1:].split('|')\n",
        "      sub_ids[line[0]]=line[-1].split('-')[:-1]\n",
        "      break\n",
        "print(sub_ids)"
      ],
      "metadata": {
        "colab": {
          "base_uri": "https://localhost:8080/"
        },
        "id": "kmfXSdiS0xhr",
        "outputId": "95c3089c-5db8-47d8-bddb-d44a4f96db05"
      },
      "execution_count": 137,
      "outputs": [
        {
          "output_type": "stream",
          "name": "stdout",
          "text": [
            "{'1A8R_1-1-1': ['221', '221']}\n"
          ]
        }
      ]
    },
    {
      "cell_type": "code",
      "source": [
        "#Get the AF2 params\n",
        "import shutil\n",
        "PARAMS=STRUCTURE_DIR+'params/'\n",
        "if not os.path.exists(PARAMS):\n",
        "  os.mkdir(PARAMS)\n",
        "  !wget https://storage.googleapis.com/alphafold/alphafold_params_2021-07-14.tar \n",
        "  shutil.move('/content/alphafold_params_2021-07-14.tar', PARAMS)"
      ],
      "metadata": {
        "id": "fqDJ1Cxp2Hdn"
      },
      "execution_count": 135,
      "outputs": []
    },
    {
      "cell_type": "code",
      "source": [
        "#Predict the subcomponents\n",
        "##### AF2 CONFIGURATION #####\n",
        "PARAM=STRUCTURE_DIR\n",
        "PRESET='full_dbs' #Choose preset model configuration - no ensembling (full_dbs) and (reduced_dbs) or 8 model ensemblings (casp14).\n",
        "MAX_RECYCLES=10 #max_recycles (default=3)\n",
        "MODEL_NAME='model_1' #model_1_ptm\n",
        "\n",
        "#Go through all subcomponents and predict their structure\n",
        "for sub_id in sub_ids:\n",
        "  ####Get fasta file####\n",
        "  FASTAFILE=OUTDIR+sub_id+'.fasta'\n",
        "  ####Get chain break#### Note! This is now set for trimer subcomponents\n",
        "  CB=','.join(sub_ids[sub_id])\n",
        "  ####Get MSAs####\n",
        "  #HHblits paired\n",
        "  PAIREDMSA=OUTDIR+sub_id+'_paired.a3m'\n",
        "  ##HHblits block diagonalized\n",
        "  BLOCKEDMSA=OUTDIR+sub_id+'_blocked.a3m'\n",
        "  MSAS=\",\".join([PAIREDMSA,BLOCKEDMSA]) #Comma separated list of msa paths\n",
        "  print(sub_id,CB, MSAS)"
      ],
      "metadata": {
        "colab": {
          "base_uri": "https://localhost:8080/"
        },
        "id": "Fw0kw1KT3Sd0",
        "outputId": "5fe3e9ff-d593-477b-d57b-95452e592494"
      },
      "execution_count": 140,
      "outputs": [
        {
          "output_type": "stream",
          "name": "stdout",
          "text": [
            "1A8R_1-1-1 221,221 /content/gdrive/MyDrive/1A8R_1-1-1_paired.a3m,/content/gdrive/MyDrive/1A8R_1-1-1_blocked.a3m\n"
          ]
        }
      ]
    },
    {
      "cell_type": "code",
      "source": [
        "sys.path.insert(0,'/content/MoLPC/src/AF2')\n",
        "from AF2 import run_alphafold_colab"
      ],
      "metadata": {
        "colab": {
          "base_uri": "https://localhost:8080/",
          "height": 469
        },
        "id": "bC94qYWOEX70",
        "outputId": "4b3c690e-9add-4a90-bf97-e9f011614b42"
      },
      "execution_count": 150,
      "outputs": [
        {
          "output_type": "error",
          "ename": "ModuleNotFoundError",
          "evalue": "ignored",
          "traceback": [
            "\u001b[0;31m---------------------------------------------------------------------------\u001b[0m",
            "\u001b[0;31mModuleNotFoundError\u001b[0m                       Traceback (most recent call last)",
            "\u001b[0;32m<ipython-input-150-1d7b7779e1b4>\u001b[0m in \u001b[0;36m<module>\u001b[0;34m()\u001b[0m\n\u001b[1;32m      1\u001b[0m \u001b[0msys\u001b[0m\u001b[0;34m.\u001b[0m\u001b[0mpath\u001b[0m\u001b[0;34m.\u001b[0m\u001b[0minsert\u001b[0m\u001b[0;34m(\u001b[0m\u001b[0;36m0\u001b[0m\u001b[0;34m,\u001b[0m\u001b[0;34m'/content/MoLPC/src/AF2'\u001b[0m\u001b[0;34m)\u001b[0m\u001b[0;34m\u001b[0m\u001b[0;34m\u001b[0m\u001b[0m\n\u001b[0;32m----> 2\u001b[0;31m \u001b[0;32mfrom\u001b[0m \u001b[0mAF2\u001b[0m \u001b[0;32mimport\u001b[0m \u001b[0mrun_alphafold_colab\u001b[0m\u001b[0;34m\u001b[0m\u001b[0;34m\u001b[0m\u001b[0m\n\u001b[0m",
            "\u001b[0;32m/content/MoLPC/src/AF2/run_alphafold_colab.py\u001b[0m in \u001b[0;36m<module>\u001b[0;34m()\u001b[0m\n\u001b[1;32m     35\u001b[0m \u001b[0;32mfrom\u001b[0m \u001b[0malphafold\u001b[0m\u001b[0;34m.\u001b[0m\u001b[0mmodel\u001b[0m \u001b[0;32mimport\u001b[0m \u001b[0mconfig\u001b[0m\u001b[0;34m\u001b[0m\u001b[0;34m\u001b[0m\u001b[0m\n\u001b[1;32m     36\u001b[0m \u001b[0;32mfrom\u001b[0m \u001b[0malphafold\u001b[0m\u001b[0;34m.\u001b[0m\u001b[0mmodel\u001b[0m \u001b[0;32mimport\u001b[0m \u001b[0mmodel\u001b[0m\u001b[0;34m\u001b[0m\u001b[0;34m\u001b[0m\u001b[0m\n\u001b[0;32m---> 37\u001b[0;31m \u001b[0;32mfrom\u001b[0m \u001b[0malphafold\u001b[0m\u001b[0;34m.\u001b[0m\u001b[0mrelax\u001b[0m \u001b[0;32mimport\u001b[0m \u001b[0mrelax\u001b[0m\u001b[0;34m\u001b[0m\u001b[0;34m\u001b[0m\u001b[0m\n\u001b[0m\u001b[1;32m     38\u001b[0m \u001b[0;32mimport\u001b[0m \u001b[0mnumpy\u001b[0m \u001b[0;32mas\u001b[0m \u001b[0mnp\u001b[0m\u001b[0;34m\u001b[0m\u001b[0;34m\u001b[0m\u001b[0m\n\u001b[1;32m     39\u001b[0m \u001b[0;31m# Internal import (7716).\u001b[0m\u001b[0;34m\u001b[0m\u001b[0;34m\u001b[0m\u001b[0;34m\u001b[0m\u001b[0m\n",
            "\u001b[0;32m/content/MoLPC/src/AF2/alphafold/relax/relax.py\u001b[0m in \u001b[0;36m<module>\u001b[0;34m()\u001b[0m\n\u001b[1;32m     16\u001b[0m \u001b[0;32mfrom\u001b[0m \u001b[0mtyping\u001b[0m \u001b[0;32mimport\u001b[0m \u001b[0mAny\u001b[0m\u001b[0;34m,\u001b[0m \u001b[0mDict\u001b[0m\u001b[0;34m,\u001b[0m \u001b[0mSequence\u001b[0m\u001b[0;34m,\u001b[0m \u001b[0mTuple\u001b[0m\u001b[0;34m\u001b[0m\u001b[0;34m\u001b[0m\u001b[0m\n\u001b[1;32m     17\u001b[0m \u001b[0;32mfrom\u001b[0m \u001b[0malphafold\u001b[0m\u001b[0;34m.\u001b[0m\u001b[0mcommon\u001b[0m \u001b[0;32mimport\u001b[0m \u001b[0mprotein\u001b[0m\u001b[0;34m\u001b[0m\u001b[0;34m\u001b[0m\u001b[0m\n\u001b[0;32m---> 18\u001b[0;31m \u001b[0;32mfrom\u001b[0m \u001b[0malphafold\u001b[0m\u001b[0;34m.\u001b[0m\u001b[0mrelax\u001b[0m \u001b[0;32mimport\u001b[0m \u001b[0mamber_minimize\u001b[0m\u001b[0;34m\u001b[0m\u001b[0;34m\u001b[0m\u001b[0m\n\u001b[0m\u001b[1;32m     19\u001b[0m \u001b[0;32mfrom\u001b[0m \u001b[0malphafold\u001b[0m\u001b[0;34m.\u001b[0m\u001b[0mrelax\u001b[0m \u001b[0;32mimport\u001b[0m \u001b[0mutils\u001b[0m\u001b[0;34m\u001b[0m\u001b[0;34m\u001b[0m\u001b[0m\n\u001b[1;32m     20\u001b[0m \u001b[0;32mimport\u001b[0m \u001b[0mnumpy\u001b[0m \u001b[0;32mas\u001b[0m \u001b[0mnp\u001b[0m\u001b[0;34m\u001b[0m\u001b[0;34m\u001b[0m\u001b[0m\n",
            "\u001b[0;32m/content/MoLPC/src/AF2/alphafold/relax/amber_minimize.py\u001b[0m in \u001b[0;36m<module>\u001b[0;34m()\u001b[0m\n\u001b[1;32m     23\u001b[0m \u001b[0;32mfrom\u001b[0m \u001b[0malphafold\u001b[0m\u001b[0;34m.\u001b[0m\u001b[0mcommon\u001b[0m \u001b[0;32mimport\u001b[0m \u001b[0mresidue_constants\u001b[0m\u001b[0;34m\u001b[0m\u001b[0;34m\u001b[0m\u001b[0m\n\u001b[1;32m     24\u001b[0m \u001b[0;32mfrom\u001b[0m \u001b[0malphafold\u001b[0m\u001b[0;34m.\u001b[0m\u001b[0mmodel\u001b[0m \u001b[0;32mimport\u001b[0m \u001b[0mfolding\u001b[0m\u001b[0;34m\u001b[0m\u001b[0;34m\u001b[0m\u001b[0m\n\u001b[0;32m---> 25\u001b[0;31m \u001b[0;32mfrom\u001b[0m \u001b[0malphafold\u001b[0m\u001b[0;34m.\u001b[0m\u001b[0mrelax\u001b[0m \u001b[0;32mimport\u001b[0m \u001b[0mcleanup\u001b[0m\u001b[0;34m\u001b[0m\u001b[0;34m\u001b[0m\u001b[0m\n\u001b[0m\u001b[1;32m     26\u001b[0m \u001b[0;32mfrom\u001b[0m \u001b[0malphafold\u001b[0m\u001b[0;34m.\u001b[0m\u001b[0mrelax\u001b[0m \u001b[0;32mimport\u001b[0m \u001b[0mutils\u001b[0m\u001b[0;34m\u001b[0m\u001b[0;34m\u001b[0m\u001b[0m\n\u001b[1;32m     27\u001b[0m \u001b[0;32mimport\u001b[0m \u001b[0mml_collections\u001b[0m\u001b[0;34m\u001b[0m\u001b[0;34m\u001b[0m\u001b[0m\n",
            "\u001b[0;32m/content/MoLPC/src/AF2/alphafold/relax/cleanup.py\u001b[0m in \u001b[0;36m<module>\u001b[0;34m()\u001b[0m\n\u001b[1;32m     20\u001b[0m \u001b[0;32mimport\u001b[0m \u001b[0mio\u001b[0m\u001b[0;34m\u001b[0m\u001b[0;34m\u001b[0m\u001b[0m\n\u001b[1;32m     21\u001b[0m \u001b[0;34m\u001b[0m\u001b[0m\n\u001b[0;32m---> 22\u001b[0;31m \u001b[0;32mimport\u001b[0m \u001b[0mpdbfixer\u001b[0m\u001b[0;34m\u001b[0m\u001b[0;34m\u001b[0m\u001b[0m\n\u001b[0m\u001b[1;32m     23\u001b[0m \u001b[0;32mfrom\u001b[0m \u001b[0msimtk\u001b[0m\u001b[0;34m.\u001b[0m\u001b[0mopenmm\u001b[0m \u001b[0;32mimport\u001b[0m \u001b[0mapp\u001b[0m\u001b[0;34m\u001b[0m\u001b[0;34m\u001b[0m\u001b[0m\n\u001b[1;32m     24\u001b[0m \u001b[0;32mfrom\u001b[0m \u001b[0msimtk\u001b[0m\u001b[0;34m.\u001b[0m\u001b[0mopenmm\u001b[0m\u001b[0;34m.\u001b[0m\u001b[0mapp\u001b[0m \u001b[0;32mimport\u001b[0m \u001b[0melement\u001b[0m\u001b[0;34m\u001b[0m\u001b[0;34m\u001b[0m\u001b[0m\n",
            "\u001b[0;31mModuleNotFoundError\u001b[0m: No module named 'pdbfixer'",
            "",
            "\u001b[0;31m---------------------------------------------------------------------------\u001b[0;32m\nNOTE: If your import is failing due to a missing package, you can\nmanually install dependencies using either !pip or !apt.\n\nTo view examples of installing some common dependencies, click the\n\"Open Examples\" button below.\n\u001b[0;31m---------------------------------------------------------------------------\u001b[0m\n"
          ],
          "errorDetails": {
            "actions": [
              {
                "action": "open_url",
                "actionText": "Open Examples",
                "url": "/notebooks/snippets/importing_libraries.ipynb"
              }
            ]
          }
        }
      ]
    },
    {
      "cell_type": "code",
      "source": [
        "$BASE/src/AF2/run_alphafold.py \\\n",
        "                --fasta_paths=$FASTAFILE \\\n",
        "                --msas=$MSAS \\\n",
        "                --chain_break_list=$CB \\\n",
        "                --output_dir=$STRUCTURE_DIR \\\n",
        "                --model_names=$MODEL_NAME \\\n",
        "                --data_dir=$PARAM \\\n",
        "                --fold_only \\\n",
        "                --uniref90_database_path=$HHBLITSDB \\\n",
        "                --mgnify_database_path=$HHBLITSDB \\\n",
        "                --bfd_database_path=$HHBLITSDB \\\n",
        "                --uniclust30_database_path=$HHBLITSDB \\\n",
        "                --pdb70_database_path=$HHBLITSDB \\\n",
        "                --template_mmcif_dir=$HHBLITSDB \\\n",
        "                --obsolete_pdbs_path=$HHBLITSDB \\\n",
        "                --preset=$PRESET \\\n",
        "                --max_recycles=$MAX_RECYCLES\n",
        "\n",
        "done"
      ],
      "metadata": {
        "id": "GCkVsch60wBG"
      },
      "execution_count": null,
      "outputs": []
    }
  ]
}