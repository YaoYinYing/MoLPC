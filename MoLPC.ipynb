{
  "nbformat": 4,
  "nbformat_minor": 0,
  "metadata": {
    "colab": {
      "name": "MoLPC.ipynb",
      "provenance": [],
      "collapsed_sections": [],
      "mount_file_id": "1qXn1IeGgK9K0XUgS_65EGHCYlL8QQs3F",
      "authorship_tag": "ABX9TyM+Lq4hbOBJFFPH2hkMfEdN",
      "include_colab_link": true
    },
    "kernelspec": {
      "name": "python3",
      "display_name": "Python 3"
    },
    "language_info": {
      "name": "python"
    }
  },
  "cells": [
    {
      "cell_type": "markdown",
      "metadata": {
        "id": "view-in-github",
        "colab_type": "text"
      },
      "source": [
        "<a href=\"https://colab.research.google.com/github/patrickbryant1/MoLPC/blob/master/MoLPC.ipynb\" target=\"_parent\"><img src=\"https://colab.research.google.com/assets/colab-badge.svg\" alt=\"Open In Colab\"/></a>"
      ]
    },
    {
      "cell_type": "code",
      "execution_count": null,
      "metadata": {
        "id": "CCt5QZ0kIeNn",
        "cellView": "form"
      },
      "outputs": [],
      "source": [
        "#@title Install dependencies\n",
        "%pip install biopython==1.79\n",
        "%pip install JAX==0.2.14\n",
        "%pip install dm-haiku==0.0.4\n",
        "%pip install ml-collections==0.1.0\n",
        "%pip install chex==0.0.7\n",
        "%pip install dm-tree==0.1.6\n",
        "%pip install immutabledict==2.0.0\n",
        "%pip install numpy==1.19.5\n",
        "%pip install pandas==1.3.4\n",
        "%pip install scipy==1.7.0\n",
        "%pip install tensorflow-cpu==2.5.0"
      ]
    },
    {
      "cell_type": "code",
      "source": [
        "#@title Clone MoLPC git\n",
        "import shutil\n",
        "shutil.rmtree('/content/MoLPC', ignore_errors=True)\n",
        "!git clone https://github.com/patrickbryant1/MoLPC.git"
      ],
      "metadata": {
        "id": "0YfNo5Thp6KJ",
        "cellView": "form"
      },
      "execution_count": null,
      "outputs": []
    },
    {
      "cell_type": "code",
      "source": [
        "#@title #Run the assembly pipeline\n",
        "import sys, os\n",
        "from google.colab import files\n",
        "sys.path.insert(0,'/content/MoLPC/src')\n",
        "#@title Default title text\n",
        "ID = \"1A8R\" #@param {type:\"string\"}\n",
        "SUBSIZE = 3 #@param {type:\"integer\"} #What order the subcomplexes should be (2 or 3)\n",
        "GET_ALL = 1 #@param {type:\"integer\"} #If to get all interactions (1) or not (0) - when the interactions are known\n",
        "#Get the csvs\n",
        "import pandas as pd\n",
        "import numpy as np\n",
        "DATADIR='/content/MoLPC/data/test/'\n",
        "USEQS=pd.read_csv(DATADIR+ID+'_useqs.csv')\n",
        "CHAINS=pd.read_csv(DATADIR+ID+'_chains.csv')\n",
        "INTERACTIONS='' #Leave empty if the interactions are not known - here they are not used. See the file $DATADIR/$ID'_ints.csv' to how to supply such a file\n",
        "MSADIR=DATADIR+'/'\n",
        "OUTDIR=\"/content/gdrive/MyDrive/\"\n",
        "#Mount the drive to be able to save files\n",
        "from google.colab import drive\n",
        "drive.mount('/content/gdrive') #All the output will be written here\n",
        "#@markdown You have to allow to connect to Google drive in order to run MoLPC."
      ],
      "metadata": {
        "id": "pCCU8gLUL8dq",
        "cellView": "form"
      },
      "execution_count": null,
      "outputs": []
    },
    {
      "cell_type": "code",
      "source": [
        "#@title Step 1: MSA PIPELINE\n",
        "#@markdown Now, a default MSA is read in - no search is performed here\n",
        "\n",
        "#@markdown Write the Paired and Block Diagonalized MSAs to predict sub-components\n",
        "from preprocess import preprocess_colab\n",
        "preprocess_colab.create_folder_structure(MSADIR, ID, OUTDIR, USEQS, INTERACTIONS, CHAINS, GET_ALL, SUBSIZE)"
      ],
      "metadata": {
        "id": "gdefazeqnSrp",
        "cellView": "form"
      },
      "execution_count": null,
      "outputs": []
    },
    {
      "cell_type": "code",
      "source": [
        "#@title Step 2: FOLDING PIPELINE\n",
        "#Create structure dir\n",
        "STRUCTURE_DIR=OUTDIR+\"AF/\"\n",
        "if not os.path.exists(STRUCTURE_DIR):\n",
        "  os.mkdir(STRUCTURE_DIR)\n",
        "#Get the sub_ids and lengths\n",
        "import glob\n",
        "files = glob.glob(OUTDIR+'*.fasta')\n",
        "sub_ids = {}\n",
        "for filename in files:\n",
        "  with open(filename, 'r') as file:\n",
        "    for line in file:\n",
        "      line = line.rstrip()[1:].split('|')\n",
        "      sub_ids[line[0]]=line[-1].split('-')[:-1]\n",
        "      break\n",
        "\n",
        "#@markdown Get the AF2 params\n",
        "import shutil\n",
        "PARAMS=STRUCTURE_DIR+'params/'\n",
        "if not os.path.exists(PARAMS):\n",
        "  os.mkdir(PARAMS)\n",
        "  !wget https://storage.googleapis.com/alphafold/alphafold_params_2021-07-14.tar \n",
        "  shutil.move('/content/alphafold_params_2021-07-14.tar', PARAMS)\n",
        "  #Extract\n",
        "  !tar -xvf /content/gdrive/MyDrive/AF/params/alphafold_params_2021-07-14.tar -C /content/gdrive/MyDrive/AF/params/"
      ],
      "metadata": {
        "id": "fifktm5fz5KR",
        "cellView": "form"
      },
      "execution_count": 4,
      "outputs": []
    },
    {
      "cell_type": "code",
      "source": [
        "#@markdown Predict the subcomponents\n",
        "sys.path.insert(0,'/content/MoLPC/src/AF2')\n",
        "from AF2 import run_alphafold_colab\n",
        "##### AF2 CONFIGURATION #####\n",
        "PARAM=STRUCTURE_DIR\n",
        "PRESET='full_dbs' #Choose preset model configuration - no ensembling (full_dbs) and (reduced_dbs) or 8 model ensemblings (casp14).\n",
        "MAX_RECYCLES=10 #max_recycles (default=3)\n",
        "MODEL_NAME='model_1' #model_1_ptm\n",
        "\n",
        "#Go through all subcomponents and predict their structure\n",
        "for sub_id in sub_ids:\n",
        "  ####Get fasta file####\n",
        "  FASTAFILE=OUTDIR+sub_id+'.fasta'\n",
        "  ####Get chain break#### Note! This is now set for trimer subcomponents\n",
        "  CB=np.cumsum([int(x) for x in sub_ids[sub_id]])\n",
        "  CB = [str(x) for x in CB]\n",
        "  ####Get MSAs####\n",
        "  #HHblits paired\n",
        "  PAIREDMSA=OUTDIR+sub_id+'_paired.a3m'\n",
        "  ##HHblits block diagonalized\n",
        "  BLOCKEDMSA=OUTDIR+sub_id+'_blocked.a3m'\n",
        "  MSAS=[PAIREDMSA,BLOCKEDMSA] #Comma separated list of msa paths\n",
        "  run_alphafold_colab.main([MODEL_NAME], 1, MAX_RECYCLES, STRUCTURE_DIR, FASTAFILE, sub_id, MSAS, CB, OUTDIR)"
      ],
      "metadata": {
        "id": "Fw0kw1KT3Sd0",
        "cellView": "form"
      },
      "execution_count": null,
      "outputs": []
    },
    {
      "cell_type": "code",
      "source": [
        "#@title Step 3: ASSEMBLY PIPELINE\n",
        "#@markdown Prepare the assembly\n",
        "COMPLEXDIR=OUTDIR+'/assembly/complex/' #Where all the output for the complex assembly will be directed\n",
        "PAIRDIR=OUTDIR+'/assembly/pairs/'\n",
        "META=OUTDIR+'/assembly/meta.csv' #where to write all interactions\n",
        "from complex_assembly import prepare_assembly_colab\n",
        "#Make complex directory\n",
        "if not os.path.exists(COMPLEXDIR):\n",
        "  os.mkdir(OUTDIR+'/assembly')\n",
        "  os.mkdir(COMPLEXDIR)\n",
        "#Rewrite the FoldDock preds to have separate chains according to the fasta file seqlens\n",
        "files = glob.glob(OUTDIR+ID+'*/*1.pdb')\n",
        "if len(files)>0:\n",
        "    for pdbname in files:\n",
        "        chains = prepare_assembly_colab.read_all_chains_coords(pdbname)\n",
        "        if len(chains.keys())>1:\n",
        "            continue\n",
        "        subid = pdbname.split('/')[-2]\n",
        "        print(subid)\n",
        "        #Rewrite the files\n",
        "        prepare_assembly_colab.write_pdb(chains, pdbname.split('.')[0]+'_rw'+'.pdb')\n",
        "\n",
        "#Copy the predictions to reflect all chains\n",
        "prepare_assembly_colab.copy_uints(ID, OUTDIR, OUTDIR+'/assembly/', USEQS,INTERACTIONS, CHAINS, GET_ALL, SUBSIZE)\n",
        "##Rewrite AF predicted complexes to have proper numbering and chain labels\n",
        "files = glob.glob(OUTDIR+'/assembly/'+ID+'*/*.pdb')\n",
        "if len(files)>0:\n",
        "    for pdbname in files:\n",
        "        chains = prepare_assembly_colab.read_all_chains_coords(pdbname)\n",
        "        subid = pdbname.split('/')[-2]\n",
        "        chain_names = subid.split('_')[-1]\n",
        "        #Rewrite the files\n",
        "        prepare_assembly_colab.write_pdb_chain_labels(chains, chain_names, OUTDIR+'/assembly/'+subid+'.pdb')\n",
        "#Write all pairs\n",
        "#It is necessary that the first unique chain is named A-..N for and the second N-... and so on\n",
        "if not os.path.exists(PAIRDIR):\n",
        "  os.mkdir(PAIRDIR)\n",
        "\n",
        "prepare_assembly_colab.get_all_pairs(OUTDIR+'/assembly/', PAIRDIR, INTERACTIONS, GET_ALL, META)\n",
        "#Cleanup\n",
        "for filename in glob.glob(OUTDIR+'/assembly/'+ID+'_*.pdb'):\n",
        "  os.remove(filename)\n",
        "for dir in glob.glob(OUTDIR+'/assembly/'+ID+'_*'):\n",
        "  if os.path.isdir(dir)==True:\n",
        "    shutil.rmtree(dir)\n"
      ],
      "metadata": {
        "id": "_Uzmm0xcibSG",
        "cellView": "form"
      },
      "execution_count": null,
      "outputs": []
    },
    {
      "cell_type": "code",
      "source": [
        "#@markdown Assemble: find the best non-overlapping path that connect all nodes using Monte Carlo tree search\n",
        "META_DF=pd.read_csv(META)\n",
        "CHAIN_SEQS=pd.read_csv(OUTDIR+'/assembly/'+ID+'_chains.csv')\n",
        "from complex_assembly import mcts_colab\n",
        "mcts_colab.assemble(META_DF, PAIRDIR, OUTDIR+'/assembly/plddt/', USEQS, CHAIN_SEQS, COMPLEXDIR)\n"
      ],
      "metadata": {
        "id": "qY3K-pKQgO4Z",
        "cellView": "form"
      },
      "execution_count": null,
      "outputs": []
    }
  ]
}