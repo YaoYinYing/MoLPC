{
  "nbformat": 4,
  "nbformat_minor": 0,
  "metadata": {
    "colab": {
      "name": "MoLPC.ipynb",
      "provenance": [],
      "collapsed_sections": [],
      "mount_file_id": "1qXn1IeGgK9K0XUgS_65EGHCYlL8QQs3F",
      "authorship_tag": "ABX9TyNNhc3Ph6Xo0Y//mpXgURG5",
      "include_colab_link": true
    },
    "kernelspec": {
      "name": "python3",
      "display_name": "Python 3"
    },
    "language_info": {
      "name": "python"
    }
  },
  "cells": [
    {
      "cell_type": "markdown",
      "metadata": {
        "id": "view-in-github",
        "colab_type": "text"
      },
      "source": [
        "<a href=\"https://colab.research.google.com/github/patrickbryant1/MoLPC/blob/master/MoLPC.ipynb\" target=\"_parent\"><img src=\"https://colab.research.google.com/assets/colab-badge.svg\" alt=\"Open In Colab\"/></a>"
      ]
    },
    {
      "cell_type": "code",
      "execution_count": null,
      "metadata": {
        "id": "CCt5QZ0kIeNn",
        "cellView": "form"
      },
      "outputs": [],
      "source": [
        "#@title Install dependencies\n",
        "!pip install biopython==1.79\n",
        "!pip install JAX==0.2.14\n",
        "!pip install dm-haiku==0.0.4\n",
        "!pip install ml-collections==0.1.0\n",
        "!pip install chex==0.0.7\n",
        "!pip install dm-tree==0.1.6\n",
        "!pip install immutabledict==2.0.0\n",
        "!pip install numpy==1.19.5\n",
        "!pip install pandas==1.3.4\n",
        "!pip install scipy==1.7.0\n",
        "!pip install tensorflow-cpu==2.5.0\n",
        "!pip install py3Dmol"
      ]
    },
    {
      "cell_type": "code",
      "source": [
        "#@title Clone MoLPC git\n",
        "import shutil\n",
        "shutil.rmtree('/content/MoLPC', ignore_errors=True)\n",
        "!git clone https://github.com/patrickbryant1/MoLPC.git"
      ],
      "metadata": {
        "id": "0YfNo5Thp6KJ",
        "cellView": "form",
        "colab": {
          "base_uri": "https://localhost:8080/"
        },
        "outputId": "84095447-7aa0-4916-eba2-a87d470f8dff"
      },
      "execution_count": 1,
      "outputs": [
        {
          "output_type": "stream",
          "name": "stdout",
          "text": [
            "Cloning into 'MoLPC'...\n",
            "remote: Enumerating objects: 327, done.\u001b[K\n",
            "remote: Counting objects: 100% (327/327), done.\u001b[K\n",
            "remote: Compressing objects: 100% (240/240), done.\u001b[K\n",
            "remote: Total 327 (delta 161), reused 239 (delta 82), pack-reused 0\u001b[K\n",
            "Receiving objects: 100% (327/327), 35.36 MiB | 15.81 MiB/s, done.\n",
            "Resolving deltas: 100% (161/161), done.\n"
          ]
        }
      ]
    },
    {
      "cell_type": "code",
      "source": [
        "#@title #Run the assembly pipeline\n",
        "import sys, os\n",
        "from google.colab import files\n",
        "sys.path.insert(0,'/content/MoLPC/src')\n",
        "#@title Default title text\n",
        "ID = \"1A8R\" #@param {type:\"string\"}\n",
        "SUBSIZE = 3 #@param {type:\"integer\"} #What order the subcomplexes should be (2 or 3)\n",
        "GET_ALL = 1 #@param {type:\"integer\"} #If to get all interactions (1) or not (0) - when the interactions are known\n",
        "#Get the csvs\n",
        "import pandas as pd\n",
        "import numpy as np\n",
        "DATADIR='/content/MoLPC/data/test/'\n",
        "USEQS=pd.read_csv(DATADIR+ID+'_useqs.csv')\n",
        "CHAINS=pd.read_csv(DATADIR+ID+'_chains.csv')\n",
        "INTERACTIONS='' #Leave empty if the interactions are not known - here they are not used. See the file $DATADIR/$ID'_ints.csv' to how to supply such a file\n",
        "MSADIR=DATADIR+'/'\n",
        "OUTDIR=\"/content/gdrive/MyDrive/\"\n",
        "#Mount the drive to be able to save files\n",
        "from google.colab import drive\n",
        "drive.mount('/content/gdrive') #All the output will be written here\n",
        "#@markdown You have to allow to connect to Google drive in order to run MoLPC."
      ],
      "metadata": {
        "id": "pCCU8gLUL8dq",
        "cellView": "form",
        "colab": {
          "base_uri": "https://localhost:8080/"
        },
        "outputId": "889ad1de-cf68-4d3d-94d8-29f43665e9e7"
      },
      "execution_count": 2,
      "outputs": [
        {
          "output_type": "stream",
          "name": "stdout",
          "text": [
            "Drive already mounted at /content/gdrive; to attempt to forcibly remount, call drive.mount(\"/content/gdrive\", force_remount=True).\n"
          ]
        }
      ]
    },
    {
      "cell_type": "code",
      "source": [
        "#@title Step 1: MSA PIPELINE\n",
        "#@markdown Now, a default MSA is read in - no search is performed here\n",
        "\n",
        "#@markdown Write the Paired and Block Diagonalized MSAs to predict sub-components\n",
        "from preprocess import preprocess_colab\n",
        "preprocess_colab.create_folder_structure(MSADIR, ID, OUTDIR, USEQS, INTERACTIONS, CHAINS, GET_ALL, SUBSIZE)"
      ],
      "metadata": {
        "id": "gdefazeqnSrp",
        "colab": {
          "base_uri": "https://localhost:8080/"
        },
        "outputId": "06a2a526-9a75-4445-9ed1-fcb26928b6d0"
      },
      "execution_count": 3,
      "outputs": [
        {
          "output_type": "stream",
          "name": "stdout",
          "text": [
            "Creating all interactions of size 3 ...\n"
          ]
        }
      ]
    },
    {
      "cell_type": "code",
      "source": [
        "#@title Step 2: FOLDING PIPELINE\n",
        "#Create structure dir\n",
        "STRUCTURE_DIR=OUTDIR+\"AF/\"\n",
        "if not os.path.exists(STRUCTURE_DIR):\n",
        "  os.mkdir(STRUCTURE_DIR)\n",
        "#Get the sub_ids and lengths\n",
        "import glob\n",
        "files = glob.glob(OUTDIR+'*.fasta')\n",
        "sub_ids = {}\n",
        "for filename in files:\n",
        "  with open(filename, 'r') as file:\n",
        "    for line in file:\n",
        "      line = line.rstrip()[1:].split('|')\n",
        "      sub_ids[line[0]]=line[-1].split('-')[:-1]\n",
        "      break\n",
        "\n",
        "#@markdown Get the AF2 params\n",
        "import shutil\n",
        "PARAMS=STRUCTURE_DIR+'params/'\n",
        "if not os.path.exists(PARAMS):\n",
        "  os.mkdir(PARAMS)\n",
        "  !wget https://storage.googleapis.com/alphafold/alphafold_params_2021-07-14.tar \n",
        "  shutil.move('/content/alphafold_params_2021-07-14.tar', PARAMS)\n",
        "  #Extract\n",
        "  !tar -xvf /content/gdrive/MyDrive/AF/params/alphafold_params_2021-07-14.tar -C /content/gdrive/MyDrive/AF/params/"
      ],
      "metadata": {
        "id": "fifktm5fz5KR"
      },
      "execution_count": 4,
      "outputs": []
    },
    {
      "cell_type": "code",
      "source": [
        "#@markdown Predict the subcomponents\n",
        "sys.path.insert(0,'/content/MoLPC/src/AF2')\n",
        "from AF2 import run_alphafold_colab\n",
        "##### AF2 CONFIGURATION #####\n",
        "PARAM=STRUCTURE_DIR\n",
        "PRESET='full_dbs' #Choose preset model configuration - no ensembling (full_dbs) and (reduced_dbs) or 8 model ensemblings (casp14).\n",
        "MAX_RECYCLES=10 #max_recycles (default=3)\n",
        "MODEL_NAME='model_1' #model_1_ptm\n",
        "\n",
        "#Go through all subcomponents and predict their structure\n",
        "for sub_id in sub_ids:\n",
        "  ####Get fasta file####\n",
        "  FASTAFILE=OUTDIR+sub_id+'.fasta'\n",
        "  ####Get chain break#### Note! This is now set for trimer subcomponents\n",
        "  CB=np.cumsum([int(x) for x in sub_ids[sub_id]])\n",
        "  CB = [str(x) for x in CB]\n",
        "  ####Get MSAs####\n",
        "  #HHblits paired\n",
        "  PAIREDMSA=OUTDIR+sub_id+'_paired.a3m'\n",
        "  ##HHblits block diagonalized\n",
        "  BLOCKEDMSA=OUTDIR+sub_id+'_blocked.a3m'\n",
        "  MSAS=[PAIREDMSA,BLOCKEDMSA] #Comma separated list of msa paths\n",
        "  run_alphafold_colab.main([MODEL_NAME], 1, MAX_RECYCLES, STRUCTURE_DIR, FASTAFILE, sub_id, MSAS, CB, OUTDIR)"
      ],
      "metadata": {
        "id": "Fw0kw1KT3Sd0"
      },
      "execution_count": null,
      "outputs": []
    },
    {
      "cell_type": "code",
      "source": [
        "COMPLEXDIR=OUTDIR+'/assembly/complex/' #Where all the output for the complex assembly will be directed\n",
        "PAIRDIR=OUTDIR+'/assembly/pairs/'\n",
        "META=OUTDIR+'/assembly/meta.csv' #where to write all interactions"
      ],
      "metadata": {
        "id": "3GhXImpljZOv"
      },
      "execution_count": 5,
      "outputs": []
    },
    {
      "cell_type": "code",
      "source": [
        "#@title Step 3: ASSEMBLY PIPELINE\n",
        "#@markdown Prepare the assembly\n",
        "COMPLEXDIR=OUTDIR+'/assembly/complex/' #Where all the output for the complex assembly will be directed\n",
        "PAIRDIR=OUTDIR+'/assembly/pairs/'\n",
        "META=OUTDIR+'/assembly/meta.csv' #where to write all interactions\n",
        "from complex_assembly import prepare_assembly_colab\n",
        "#Make complex directory\n",
        "if not os.path.exists(COMPLEXDIR):\n",
        "  os.mkdir(OUTDIR+'/assembly')\n",
        "  os.mkdir(COMPLEXDIR)\n",
        "#Rewrite the FoldDock preds to have separate chains according to the fasta file seqlens\n",
        "files = glob.glob(OUTDIR+ID+'*/*1.pdb')\n",
        "if len(files)>0:\n",
        "    for pdbname in files:\n",
        "        chains = prepare_assembly_colab.read_all_chains_coords(pdbname)\n",
        "        if len(chains.keys())>1:\n",
        "            continue\n",
        "        subid = pdbname.split('/')[-2]\n",
        "        print(subid)\n",
        "        #Rewrite the files\n",
        "        prepare_assembly_colab.write_pdb(chains, pdbname.split('.')[0]+'_rw'+'.pdb')\n",
        "\n",
        "#Copy the predictions to reflect all chains\n",
        "prepare_assembly_colab.copy_uints(ID, OUTDIR, OUTDIR+'/assembly/', USEQS,INTERACTIONS, CHAINS, GET_ALL, SUBSIZE)\n",
        "##Rewrite AF predicted complexes to have proper numbering and chain labels\n",
        "files = glob.glob(OUTDIR+'/assembly/'+ID+'*/*.pdb')\n",
        "if len(files)>0:\n",
        "    for pdbname in files:\n",
        "        chains = prepare_assembly_colab.read_all_chains_coords(pdbname)\n",
        "        subid = pdbname.split('/')[-2]\n",
        "        chain_names = subid.split('_')[-1]\n",
        "        #Rewrite the files\n",
        "        prepare_assembly_colab.write_pdb_chain_labels(chains, chain_names, OUTDIR+'/assembly/'+subid+'.pdb')\n",
        "#Write all pairs\n",
        "#It is necessary that the first unique chain is named A-..N for and the second N-... and so on\n",
        "if not os.path.exists(PAIRDIR):\n",
        "  os.mkdir(PAIRDIR)\n",
        "\n",
        "prepare_assembly_colab.get_all_pairs(OUTDIR+'/assembly/', PAIRDIR, INTERACTIONS, GET_ALL, META)\n",
        "#Cleanup\n",
        "for filename in glob.glob(OUTDIR+'/assembly/'+ID+'_*.pdb'):\n",
        "  os.remove(filename)\n",
        "for dir in glob.glob(OUTDIR+'/assembly/'+ID+'_*'):\n",
        "  if os.path.isdir(dir)==True:\n",
        "    shutil.rmtree(dir)\n"
      ],
      "metadata": {
        "id": "_Uzmm0xcibSG"
      },
      "execution_count": null,
      "outputs": []
    },
    {
      "cell_type": "code",
      "source": [
        "#@markdown Assemble: find the best non-overlapping path that connect all nodes using Monte Carlo tree search\n",
        "META_DF=pd.read_csv(META)\n",
        "CHAIN_SEQS=pd.read_csv(OUTDIR+'/assembly/'+ID+'_chains.csv')\n",
        "from complex_assembly import mcts_colab\n",
        "mcts_colab.assemble(META_DF, PAIRDIR, OUTDIR+'/assembly/plddt/', USEQS, CHAIN_SEQS, COMPLEXDIR)\n"
      ],
      "metadata": {
        "id": "qY3K-pKQgO4Z"
      },
      "execution_count": null,
      "outputs": []
    },
    {
      "cell_type": "code",
      "source": [
        "##@title Score the assembly\n",
        "from complex_assembly import score_entire_complex_colab\n",
        "score_entire_complex_colab.main(ID, COMPLEXDIR+'best_complex.pdb', COMPLEXDIR+'optimal_path.csv', USEQS, CHAINS, COMPLEXDIR+'scores.csv')\n",
        "\n",
        "#Clean up files used in the assembly and scoring\n",
        "#Pair dir\n",
        "try:\n",
        "  shutil.rmtree(PAIRDIR)\n",
        "  shutil.rmtree(OUTDIR+'/assembly/plddt/')\n",
        "  for subcomponent_dir in glob.glob(OUTDIR+ID+'*_*'):\n",
        "    if os.path.isdir(subcomponent_dir)==True:\n",
        "      shutil.rmtree(subcomponent_dir)\n",
        "  \n",
        "except:\n",
        "  'No dirs to remove'\n"
      ],
      "metadata": {
        "id": "P_QbPiT_iGs6",
        "colab": {
          "base_uri": "https://localhost:8080/"
        },
        "outputId": "b7a339ba-a022-4db0-b12c-49f8016391cd"
      },
      "execution_count": 15,
      "outputs": [
        {
          "output_type": "stream",
          "name": "stdout",
          "text": [
            "mpDockQ: 0.7585587929480845\n"
          ]
        }
      ]
    },
    {
      "cell_type": "code",
      "source": [
        "#@title Display 3D structure {run: \"auto\"}\n",
        "#From: https://colab.research.google.com/github/sokrypton/ColabFold/blob/main/AlphaFold2.ipynb\n",
        "import py3Dmol\n",
        "import glob\n",
        "import matplotlib.pyplot as plt\n",
        "\n",
        "view = py3Dmol.view(js='https://3dmol.org/build/3Dmol.js',)\n",
        "view.addModel(open(COMPLEXDIR+'best_complex.pdb','r').read(),'pdb')\n",
        "\n",
        "\n",
        "for n,chain,color in zip(range(len(CHAINS)),list(\"ABCDEFGHIJKLMNOPQRSTUVWXYZ\"),\n",
        "                     [\"lime\",\"cyan\",\"magenta\",\"yellow\",\"salmon\",\"white\",\"blue\",\"orange\",\n",
        "                     \"grey\",\"brown\",\"lime\",\"cyan\",\"magenta\",\"yellow\",\"salmon\",\"white\",\"blue\",\"orange\",\n",
        "                     \"grey\",\"brown\",\"lime\",\"cyan\",\"magenta\",\"yellow\",\"salmon\",\"white\",\"blue\",\"orange\",\n",
        "                     \"grey\",\"brown\"]):\n",
        "      view.setStyle({'chain':chain},{'cartoon': {'color':color}})\n",
        "#view.setStyle({'cartoon': {'color':'spectrum'}})\n",
        "view.zoomTo()\n",
        "view.show()\n"
      ],
      "metadata": {
        "colab": {
          "base_uri": "https://localhost:8080/",
          "height": 376
        },
        "id": "cY0uUyjTijwN",
        "outputId": "93e77b55-8c8a-4151-c007-615afac4390a"
      },
      "execution_count": 9,
      "outputs": [
        {
          "output_type": "error",
          "ename": "ModuleNotFoundError",
          "evalue": "ignored",
          "traceback": [
            "\u001b[0;31m---------------------------------------------------------------------------\u001b[0m",
            "\u001b[0;31mModuleNotFoundError\u001b[0m                       Traceback (most recent call last)",
            "\u001b[0;32m<ipython-input-9-e867b3ba20a2>\u001b[0m in \u001b[0;36m<module>\u001b[0;34m()\u001b[0m\n\u001b[1;32m      1\u001b[0m \u001b[0;31m#@title Display 3D structure {run: \"auto\"}\u001b[0m\u001b[0;34m\u001b[0m\u001b[0;34m\u001b[0m\u001b[0;34m\u001b[0m\u001b[0m\n\u001b[1;32m      2\u001b[0m \u001b[0;31m#From: https://colab.research.google.com/github/sokrypton/ColabFold/blob/main/AlphaFold2.ipynb\u001b[0m\u001b[0;34m\u001b[0m\u001b[0;34m\u001b[0m\u001b[0;34m\u001b[0m\u001b[0m\n\u001b[0;32m----> 3\u001b[0;31m \u001b[0;32mimport\u001b[0m \u001b[0mpy3Dmol\u001b[0m\u001b[0;34m\u001b[0m\u001b[0;34m\u001b[0m\u001b[0m\n\u001b[0m\u001b[1;32m      4\u001b[0m \u001b[0;32mimport\u001b[0m \u001b[0mglob\u001b[0m\u001b[0;34m\u001b[0m\u001b[0;34m\u001b[0m\u001b[0m\n\u001b[1;32m      5\u001b[0m \u001b[0;32mimport\u001b[0m \u001b[0mmatplotlib\u001b[0m\u001b[0;34m.\u001b[0m\u001b[0mpyplot\u001b[0m \u001b[0;32mas\u001b[0m \u001b[0mplt\u001b[0m\u001b[0;34m\u001b[0m\u001b[0;34m\u001b[0m\u001b[0m\n",
            "\u001b[0;31mModuleNotFoundError\u001b[0m: No module named 'py3Dmol'",
            "",
            "\u001b[0;31m---------------------------------------------------------------------------\u001b[0;32m\nNOTE: If your import is failing due to a missing package, you can\nmanually install dependencies using either !pip or !apt.\n\nTo view examples of installing some common dependencies, click the\n\"Open Examples\" button below.\n\u001b[0;31m---------------------------------------------------------------------------\u001b[0m\n"
          ],
          "errorDetails": {
            "actions": [
              {
                "action": "open_url",
                "actionText": "Open Examples",
                "url": "/notebooks/snippets/importing_libraries.ipynb"
              }
            ]
          }
        }
      ]
    }
  ]
}